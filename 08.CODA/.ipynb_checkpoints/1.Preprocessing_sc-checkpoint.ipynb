{
 "cells": [
  {
   "cell_type": "code",
   "execution_count": 4,
   "id": "8447da5e-d5cb-4f73-a17b-9bca6d55008f",
   "metadata": {
    "tags": []
   },
   "outputs": [],
   "source": [
    "import pandas as pd\n",
    "import numpy as np\n",
    "from anndata import AnnData\n",
    "import scanpy as sc\n",
    "sc.settings.verbosity = 2\n",
    "import argparse\n",
    "import os\n",
    "\n",
    "'''parser = argparse.ArgumentParser(description='Preparing scRNAseq input')\n",
    "parser.add_argument('--path_input', type=str, default='../data/bulkRS/', help='input file')\n",
    "parser.add_argument('--path_save', type=str, default='../results/decon/', help='output file directory')\n",
    "\n",
    "args = parser.parse_args()\n",
    "\n",
    "with open(args.path_input,'r') as f:\n",
    "    X = pd.read_csv(f,sep=\",\")\n",
    "'''''\n",
    "\n",
    "#pancreas_refseq_counts_goodquality.csv\n",
    "\n",
    "path_input = '../Mammary/raw_sc_with_celltypes.csv'\n",
    "path_save = '../1.Counts_and_cells/Mammary/'\n"
   ]
  },
  {
   "cell_type": "code",
   "execution_count": 43,
   "id": "5eb00f21-ad70-4001-b8ec-db3e93f7fbd4",
   "metadata": {
    "tags": []
   },
   "outputs": [
    {
     "name": "stdout",
     "output_type": "stream",
     "text": [
      "Saving counts matrix...\n"
     ]
    },
    {
     "ename": "KeyError",
     "evalue": "'nk cell'",
     "output_type": "error",
     "traceback": [
      "\u001b[0;31m---------------------------------------------------------------------------\u001b[0m",
      "\u001b[0;31mKeyError\u001b[0m                                  Traceback (most recent call last)",
      "Cell \u001b[0;32mIn[43], line 25\u001b[0m\n\u001b[1;32m      7\u001b[0m \u001b[38;5;66;03m#Generate cell labels to one-hot encoding mapping\u001b[39;00m\n\u001b[1;32m      8\u001b[0m \u001b[38;5;66;03m#Label map\u001b[39;00m\n\u001b[1;32m      9\u001b[0m \n\u001b[0;32m   (...)\u001b[0m\n\u001b[1;32m     20\u001b[0m \n\u001b[1;32m     21\u001b[0m \u001b[38;5;66;03m#For breast\u001b[39;00m\n\u001b[1;32m     22\u001b[0m label_map\u001b[38;5;241m=\u001b[39m{\u001b[38;5;124m'\u001b[39m\u001b[38;5;124mluminal epithelial cell of mammary gland\u001b[39m\u001b[38;5;124m'\u001b[39m: \u001b[38;5;241m0\u001b[39m, \u001b[38;5;124m'\u001b[39m\u001b[38;5;124mt cell\u001b[39m\u001b[38;5;124m'\u001b[39m: \u001b[38;5;241m1\u001b[39m, \u001b[38;5;124m'\u001b[39m\u001b[38;5;124mfibroblast of breast\u001b[39m\u001b[38;5;124m'\u001b[39m: \u001b[38;5;241m2\u001b[39m, \u001b[38;5;124m'\u001b[39m\u001b[38;5;124mbasal cell\u001b[39m\u001b[38;5;124m'\u001b[39m:\u001b[38;5;241m3\u001b[39m, \u001b[38;5;124m'\u001b[39m\u001b[38;5;124mendothelial cell\u001b[39m\u001b[38;5;124m'\u001b[39m:\u001b[38;5;241m4\u001b[39m,\n\u001b[1;32m     23\u001b[0m            \u001b[38;5;124m'\u001b[39m\u001b[38;5;124mmacrophage\u001b[39m\u001b[38;5;124m'\u001b[39m: \u001b[38;5;241m5\u001b[39m, \u001b[38;5;124m'\u001b[39m\u001b[38;5;124mplasma cell\u001b[39m\u001b[38;5;124m'\u001b[39m: \u001b[38;5;241m6\u001b[39m, \u001b[38;5;124m'\u001b[39m\u001b[38;5;124mpericyte cell\u001b[39m\u001b[38;5;124m'\u001b[39m: \u001b[38;5;241m7\u001b[39m, \u001b[38;5;124m'\u001b[39m\u001b[38;5;124mvascular associated smooth muscle cell\u001b[39m\u001b[38;5;124m'\u001b[39m: \u001b[38;5;241m8\u001b[39m, \u001b[38;5;124m'\u001b[39m\u001b[38;5;124mb cell\u001b[39m\u001b[38;5;124m'\u001b[39m:\u001b[38;5;241m9\u001b[39m }\n\u001b[0;32m---> 25\u001b[0m label_all \u001b[38;5;241m=\u001b[39m  np\u001b[38;5;241m.\u001b[39marray([label_map[i] \u001b[38;5;28;01mfor\u001b[39;00m i \u001b[38;5;129;01min\u001b[39;00m X[\u001b[38;5;124m'\u001b[39m\u001b[38;5;124mCelltype\u001b[39m\u001b[38;5;124m'\u001b[39m]])\n",
      "Cell \u001b[0;32mIn[43], line 25\u001b[0m, in \u001b[0;36m<listcomp>\u001b[0;34m(.0)\u001b[0m\n\u001b[1;32m      7\u001b[0m \u001b[38;5;66;03m#Generate cell labels to one-hot encoding mapping\u001b[39;00m\n\u001b[1;32m      8\u001b[0m \u001b[38;5;66;03m#Label map\u001b[39;00m\n\u001b[1;32m      9\u001b[0m \n\u001b[0;32m   (...)\u001b[0m\n\u001b[1;32m     20\u001b[0m \n\u001b[1;32m     21\u001b[0m \u001b[38;5;66;03m#For breast\u001b[39;00m\n\u001b[1;32m     22\u001b[0m label_map\u001b[38;5;241m=\u001b[39m{\u001b[38;5;124m'\u001b[39m\u001b[38;5;124mluminal epithelial cell of mammary gland\u001b[39m\u001b[38;5;124m'\u001b[39m: \u001b[38;5;241m0\u001b[39m, \u001b[38;5;124m'\u001b[39m\u001b[38;5;124mt cell\u001b[39m\u001b[38;5;124m'\u001b[39m: \u001b[38;5;241m1\u001b[39m, \u001b[38;5;124m'\u001b[39m\u001b[38;5;124mfibroblast of breast\u001b[39m\u001b[38;5;124m'\u001b[39m: \u001b[38;5;241m2\u001b[39m, \u001b[38;5;124m'\u001b[39m\u001b[38;5;124mbasal cell\u001b[39m\u001b[38;5;124m'\u001b[39m:\u001b[38;5;241m3\u001b[39m, \u001b[38;5;124m'\u001b[39m\u001b[38;5;124mendothelial cell\u001b[39m\u001b[38;5;124m'\u001b[39m:\u001b[38;5;241m4\u001b[39m,\n\u001b[1;32m     23\u001b[0m            \u001b[38;5;124m'\u001b[39m\u001b[38;5;124mmacrophage\u001b[39m\u001b[38;5;124m'\u001b[39m: \u001b[38;5;241m5\u001b[39m, \u001b[38;5;124m'\u001b[39m\u001b[38;5;124mplasma cell\u001b[39m\u001b[38;5;124m'\u001b[39m: \u001b[38;5;241m6\u001b[39m, \u001b[38;5;124m'\u001b[39m\u001b[38;5;124mpericyte cell\u001b[39m\u001b[38;5;124m'\u001b[39m: \u001b[38;5;241m7\u001b[39m, \u001b[38;5;124m'\u001b[39m\u001b[38;5;124mvascular associated smooth muscle cell\u001b[39m\u001b[38;5;124m'\u001b[39m: \u001b[38;5;241m8\u001b[39m, \u001b[38;5;124m'\u001b[39m\u001b[38;5;124mb cell\u001b[39m\u001b[38;5;124m'\u001b[39m:\u001b[38;5;241m9\u001b[39m }\n\u001b[0;32m---> 25\u001b[0m label_all \u001b[38;5;241m=\u001b[39m  np\u001b[38;5;241m.\u001b[39marray([\u001b[43mlabel_map\u001b[49m\u001b[43m[\u001b[49m\u001b[43mi\u001b[49m\u001b[43m]\u001b[49m \u001b[38;5;28;01mfor\u001b[39;00m i \u001b[38;5;129;01min\u001b[39;00m X[\u001b[38;5;124m'\u001b[39m\u001b[38;5;124mCelltype\u001b[39m\u001b[38;5;124m'\u001b[39m]])\n",
      "\u001b[0;31mKeyError\u001b[0m: 'nk cell'"
     ]
    }
   ],
   "source": [
    "orig_X = X\n",
    "print('Saving counts matrix...')\n",
    "path_save = '../1.Counts_and_cells/Mammary/'\n",
    "\n",
    "X.to_csv(path_save+'counts_matrix.tab',sep=\"\\t\")\n",
    "\n",
    "#Generate cell labels to one-hot encoding mapping\n",
    "\n",
    "#For uterus\n",
    "label_map={'b cell': 0,'endothelial cell': 1,'epithelial cell': 2, 'fibroblast': 3, 'macrophage': 4, 'nk cell': 5,\n",
    "           'pericyte cell': 6, 'smooth muscle':7,  't cell': 8}\n",
    "label_all =  np.array([label_map[i] for i in X['Celltype']])\n",
    "\n",
    "#For ovary\n",
    "label_map={'EC': 0,'EpiC': 1,'GC': 2, 'IC': 3, 'SC': 4, 'SMC': 5, 'TC':6}\n",
    "\n",
    "label_all =  np.array([label_map[i] for i in X['Celltype']])\n",
    "\n",
    "\n"
   ]
  },
  {
   "cell_type": "code",
   "execution_count": null,
   "id": "37c25533-b4e9-44d7-81a1-caba3b9ffef5",
   "metadata": {
    "tags": []
   },
   "outputs": [],
   "source": [
    "## Save cell labels as one hot encoding\n",
    "a = np.array(label_all)\n",
    "b = np.zeros((a.size, a.max()+1))\n",
    "b[np.arange(a.size),a] = 1\n"
   ]
  },
  {
   "cell_type": "code",
   "execution_count": null,
   "id": "616362b1-9827-4aec-8c22-7b66442f8a5c",
   "metadata": {},
   "outputs": [],
   "source": [
    "np.sum(b == 1, axis=0)"
   ]
  },
  {
   "cell_type": "code",
   "execution_count": null,
   "id": "c32d0cf8-e776-4209-85b3-65c3f3ccbaa2",
   "metadata": {
    "tags": []
   },
   "outputs": [],
   "source": [
    "print('Saving cell labels...')\n",
    "directory = os.path.dirname(path_save + 'cell_labels_oh.csv')\n",
    "if not os.path.exists(directory):\n",
    "    os.makedirs(directory)\n",
    "np.savetxt(path_save+'cell_labels_oh.csv',b,delimiter=\",\")\n"
   ]
  },
  {
   "cell_type": "code",
   "execution_count": null,
   "id": "0c6aa83e-e187-480b-a93d-2c6449170a5b",
   "metadata": {},
   "outputs": [],
   "source": [
    "#X.drop(X.columns[0], axis = 1, inplace=True)\n",
    "X.drop(X.columns[-1], axis = 1, inplace=True) ###WE ONLY REMOVE THE LAST COLUMN, WHICH INDICATED THE CELLTYPE\n",
    "#X.drop(X.columns[-1], axis = 1, inplace=True)\n",
    "X.to_csv(path_save+'counts_matrix_all.tab',sep=\"\\t\")"
   ]
  },
  {
   "cell_type": "code",
   "execution_count": 5,
   "id": "52a84f8f-369d-47f7-b86d-c28e632de66c",
   "metadata": {},
   "outputs": [],
   "source": [
    "X = pd.read_csv(path_save+'counts_matrix_all.tab',sep=\"\\t\")"
   ]
  },
  {
   "cell_type": "code",
   "execution_count": 7,
   "id": "7ac196a0-2e2d-4917-8536-185cfa403fe4",
   "metadata": {},
   "outputs": [],
   "source": [
    "orig = X"
   ]
  },
  {
   "cell_type": "code",
   "execution_count": 16,
   "id": "7b5c8de7-ecc6-4118-a6b4-5cbff48e6e88",
   "metadata": {
    "tags": []
   },
   "outputs": [
    {
     "name": "stderr",
     "output_type": "stream",
     "text": [
      "/scratch/tmp/12501957/ipykernel_2096595/760792866.py:2: SettingWithCopyWarning: \n",
      "A value is trying to be set on a copy of a slice from a DataFrame\n",
      "\n",
      "See the caveats in the documentation: https://pandas.pydata.org/pandas-docs/stable/user_guide/indexing.html#returning-a-view-versus-a-copy\n",
      "  X.drop(X.columns[-1], axis = 1, inplace=True) ###WE ONLY REMOVE THE LAST COLUMN, WHICH INDICATED THE CELLTYPE\n"
     ]
    }
   ],
   "source": [
    "X.drop(X.columns[-1], axis = 1, inplace=True) ###WE ONLY REMOVE THE LAST COLUMN, WHICH INDICATED THE CELLTYPE"
   ]
  },
  {
   "cell_type": "code",
   "execution_count": 8,
   "id": "89eb457c-c2df-4160-ab22-1647ceb01553",
   "metadata": {},
   "outputs": [],
   "source": [
    "X.drop(X.columns[0], axis = 1, inplace=True)"
   ]
  },
  {
   "cell_type": "code",
   "execution_count": 18,
   "id": "5976bfbb-d35d-4dfb-81a1-d3c2ef08aa8e",
   "metadata": {},
   "outputs": [],
   "source": [
    "X.to_csv(path_save+'counts_matrix_all.tab',sep=\"\\t\")"
   ]
  },
  {
   "cell_type": "code",
   "execution_count": 13,
   "id": "9d9083d7-33e2-49a5-b4b4-937efdcd02e5",
   "metadata": {},
   "outputs": [],
   "source": [
    "col_names = genes.tolist()\n",
    "\n",
    "# Save the list to a txt file\n",
    "with open(\"../3.Input_sc_files_for_training/Mammary/genes.txt\", \"w\") as file:\n",
    "    for col in col_names:\n",
    "        file.write(col + \"\\n\")\n"
   ]
  },
  {
   "cell_type": "code",
   "execution_count": 10,
   "id": "1f09122b-f32f-493b-9672-154f7d365e90",
   "metadata": {},
   "outputs": [],
   "source": [
    "genes = X.columns"
   ]
  },
  {
   "cell_type": "code",
   "execution_count": 32,
   "id": "1ecda0bd-8c9d-4c99-9164-505010b423cb",
   "metadata": {
    "tags": []
   },
   "outputs": [
    {
     "name": "stderr",
     "output_type": "stream",
     "text": [
      "/home/bsc/bsc083671/.local/lib/python3.9/site-packages/anndata/_core/aligned_df.py:67: ImplicitModificationWarning: Transforming to str index.\n",
      "  warnings.warn(\"Transforming to str index.\", ImplicitModificationWarning)\n"
     ]
    }
   ],
   "source": [
    "## Normalize data - for all gene\n",
    "X = orig_X\n",
    "genes = X.columns\n",
    "adata = AnnData(X[genes])\n"
   ]
  },
  {
   "cell_type": "code",
   "execution_count": 40,
   "id": "17d34f32-875d-4d5c-880d-f3f9c11c0501",
   "metadata": {},
   "outputs": [
    {
     "ename": "AttributeError",
     "evalue": "'Index' object has no attribute 'to_csv'",
     "output_type": "error",
     "traceback": [
      "\u001b[0;31m---------------------------------------------------------------------------\u001b[0m",
      "\u001b[0;31mAttributeError\u001b[0m                            Traceback (most recent call last)",
      "Cell \u001b[0;32mIn[40], line 1\u001b[0m\n\u001b[0;32m----> 1\u001b[0m \u001b[43mgenes\u001b[49m\u001b[38;5;241;43m.\u001b[39;49m\u001b[43mto_csv\u001b[49m(\u001b[38;5;124m\"\u001b[39m\u001b[38;5;124m../3.Input_sc_files_for_training/Mammary/genes.txt\u001b[39m\u001b[38;5;124m\"\u001b[39m)\n",
      "\u001b[0;31mAttributeError\u001b[0m: 'Index' object has no attribute 'to_csv'"
     ]
    }
   ],
   "source": [
    "genes.to_csv(\"../3.Input_sc_files_for_training/Mammary/genes.txt\")"
   ]
  },
  {
   "cell_type": "code",
   "execution_count": 34,
   "id": "b7b73113-2657-423c-b323-3e15be93a767",
   "metadata": {
    "tags": []
   },
   "outputs": [
    {
     "name": "stdout",
     "output_type": "stream",
     "text": [
      "normalizing counts per cell. The following highly-expressed genes are not considered during normalization factor computation:\n",
      "['Unnamed: 0', 'VPS13D', 'CTSK', 'HSPA6', 'DNM3OS', 'PAPPA2', 'SLC30A10', 'RAB3GAP2', 'IGKC', 'IGKV4.1', 'TNFAIP6', 'TFPI', 'AC009226.1', 'DCAF1', 'SEC61A1', 'CPB1', 'APOD', 'FDCSP', 'JCHAIN', 'CXCL8', 'HSPA1A', 'DST', 'ACTB', 'PDLIM2', 'RIC1', 'NOLC1', 'SAA1', 'FTH1', 'SCGB2A2', 'MTA2', 'NEAT1', 'MALAT1', 'MMP3', 'MGP', 'MUCL1', 'ERO1A', 'HSP90AA1', 'IGHA2', 'IGHG4', 'IGHG2', 'IGHA1', 'IGHG1', 'IGHG3', 'IGHD', 'IGHM', 'AC007728.2', 'MT2A', 'NFAT5', 'UBB', 'ACTG1', 'NAPG', 'DNAJB1', 'FTL', 'EDDM13', 'ASXL1', 'IGLV4.69', 'IGLV1.51', 'IGLV2.8', 'IGLL5', 'IGLC2', 'IGLC3', 'TIMP1', 'CXXC1P1', 'TCEAL8', 'MT.RNR1', 'MT.RNR2', 'MT.ND1', 'MT.ND2', 'MT.CO1', 'MT.CO2', 'MT.ATP6', 'MT.CO3', 'MT.ND4', 'MT.ND5', 'MT.CYB']\n",
      "    finished (0:00:05)\n",
      "Saving all genes normalized counts matrix ..\n"
     ]
    }
   ],
   "source": [
    "X_norm = sc.pp.normalize_total(adata, target_sum=10000, exclude_highly_expressed=True, inplace=False)['X']\n",
    "X_norm_r = np.rint(X_norm)\n",
    "df = pd.DataFrame(data=X_norm_r,index=X.index,columns=X.columns)\n",
    "df = df.astype(int)\n",
    "print('Saving all genes normalized counts matrix ..')\n",
    "df.to_csv(path_save+'counts_matrix_all_normr.tab',sep=\"\\t\")  "
   ]
  },
  {
   "cell_type": "code",
   "execution_count": 35,
   "id": "0c501bd5-bcfb-4531-b430-0a78b79afe1d",
   "metadata": {
    "tags": []
   },
   "outputs": [
    {
     "name": "stdout",
     "output_type": "stream",
     "text": [
      "Saving all log normalized counts matrix ..\n"
     ]
    }
   ],
   "source": [
    "## Log normalize data - for all genes\n",
    "X_norm_log = sc.pp.log1p(X_norm) #Logarithamize the data\n",
    "X_norm_log_r = np.rint(X_norm_log)\n",
    "df = pd.DataFrame(data=X_norm_log_r,index=X.index,columns=X.columns)\n",
    "df = df.astype(int)\n",
    "print('Saving all log normalized counts matrix ..')\n",
    "df.to_csv(path_save+'counts_matrix_all_log1p_normr.tab',sep=\"\\t\")"
   ]
  },
  {
   "cell_type": "code",
   "execution_count": 36,
   "id": "ccc782ac-203a-4efc-9d64-bc4b1ff08421",
   "metadata": {
    "tags": []
   },
   "outputs": [
    {
     "name": "stdout",
     "output_type": "stream",
     "text": [
      "Saving preprocessed counts matrix .. \n"
     ]
    }
   ],
   "source": [
    "#Preprocess the data - simple preprocessing\n",
    "A = orig_X.T\n",
    "A = A[A.astype(bool).sum(axis=1) < len(orig_X)*0.8]    #Remove highly expressed genes - ie. found in >80% of cells\n",
    "A = A[A.astype(bool).sum(axis=1) > 5]             #Remove lowly expressed genes - ie. found in <5 cells\n",
    "X = A.T\n",
    "print('Saving preprocessed counts matrix .. ')\n",
    "X.to_csv(path_save+'counts_matrix_pp.tab',sep=\"\\t\")"
   ]
  },
  {
   "cell_type": "code",
   "execution_count": null,
   "id": "b73a910a-aa5b-4a7c-aefd-514044353bf4",
   "metadata": {},
   "outputs": [],
   "source": []
  },
  {
   "cell_type": "code",
   "execution_count": 37,
   "id": "4a066daa-90a5-4026-9401-c2cddf3233c9",
   "metadata": {
    "tags": []
   },
   "outputs": [
    {
     "name": "stderr",
     "output_type": "stream",
     "text": [
      "/home/bsc/bsc083671/.local/lib/python3.9/site-packages/anndata/_core/aligned_df.py:67: ImplicitModificationWarning: Transforming to str index.\n",
      "  warnings.warn(\"Transforming to str index.\", ImplicitModificationWarning)\n"
     ]
    },
    {
     "name": "stdout",
     "output_type": "stream",
     "text": [
      "normalizing counts per cell. The following highly-expressed genes are not considered during normalization factor computation:\n",
      "['EXOSC10', 'VPS13D', 'HP1BP3', 'ID3', 'HMGN2', 'RLF', 'SNORA66', 'CTSK', 'S100A9', 'S100A2', 'SCAMP3', 'DAP3', 'HSPA6', 'DNM3OS', 'PAPPA2', 'GLUL', 'PRG4', 'IGFN1', 'LAX1', 'G0S2', 'SLC30A10', 'RAB3GAP2', 'IRF2BP2', 'ID2', 'IGKV4.1', 'MGAT4A', 'IL1RL1', 'DDX18', 'GYPC', 'WDR33', 'TNFAIP6', 'PSMD14', 'LRP2', 'TTN', 'NCKAP1', 'TFPI', 'AC009226.1', 'SERPINE2', 'ANKRD28', 'DCAF1', 'DCP1A', 'CLDND1', 'CBLB', 'NEPRO', 'SEC61A1', 'RYK', 'AC069528.2', 'CPB1', 'PTX3', 'SEC62', 'KLHL24', 'APOD', 'TMEM165', 'CSN1S1', 'FDCSP', 'JCHAIN', 'CXCL8', 'CXCL1', 'SPP1', 'ADH1B', 'CAMK2D', 'JADE1', 'CASP3', 'IL7R', 'PIK3R1', 'POLK', 'ARRDC3', 'FER', 'CD74', 'GABRP', 'DUSP1', 'CANX', 'SCGB3A1', 'WRNIP1', 'RIPOR2', 'HIST1H4C', 'HSPA1A', 'C6orf48', 'HLA.DRA', 'DST', 'NCOA7', 'AL031772.1', 'VTA1', 'TCP1', 'THBS2', 'AGR2', 'HSPB1', 'PHTF2', 'PDK4', 'AZGP1', 'HBP1', 'CAV1', 'AC090114.2', 'AHCYL2', 'PDLIM2', 'CLU', 'SDCBP', 'ENY2', 'RIC1', 'ZNF462', 'PTPN3', 'HSPA5', 'AL590708.1', 'PTGES', 'SFMBT2', 'VIM', 'DEPP1', 'SRGN', 'ASCC1', 'NOLC1', 'PRDX3', 'CHST15', 'HBB', 'ADM', 'C11orf58', 'SAA2', 'SAA1', 'HIPK3', 'CD59', 'C11orf96', 'SCGB1D2', 'SCGB2A2', 'MTA2', 'COX8A', 'YIF1A', 'MMP7', 'MMP1', 'MMP3', 'CRYAB', 'TAGLN', 'HSPA8', 'SLC2A3', 'CD69', 'CLEC2B', 'LINC02446', 'SCAF11', 'SLC38A2', 'KRT81', 'MUCL1', 'TBK1', 'GNS', 'LUM', 'DCN', 'KMT5A', 'SLC46A3', 'PHF11', 'TBC1D4', 'ARGLU1', 'RNASE1', 'TOX4', 'ERO1A', 'ZFP36L1', 'IGHA2', 'IGHG4', 'IGHG2', 'IGHG1', 'IGHG3', 'IGHD', 'IGHM', 'IGHV1.2', 'IGHV3.11', 'IGHV3.74', 'SPRED1', 'LRRC57', 'VPS13C', 'ARL6IP1', 'AC007728.2', 'MT1E', 'MT1A', 'MT1X', 'NFAT5', 'ANKRD11', 'INPP5K', 'CLDN7', 'DNAH9', 'UBB', 'KRT14', 'KRT16', 'KRT17', 'DDX5', 'ITGB4', 'SOCS3', 'SMCHD1', 'VAPA', 'NAPG', 'PMM2P1', 'SS18', 'DSG2', 'ZNF397', 'FECH', 'CFD', 'GADD45B', 'DNAJB1', 'REX1BD', 'IGFLR1', 'SNRPD2', 'EDDM13', 'ASXL1', 'PIGU', 'CHD6', 'PI3', 'SLPI', 'WFDC2', 'DNTTIP1', 'TFF3', 'TFF1', 'PTTG1IP', 'IGLV4.69', 'IGLV2.8', 'IGLL5', 'IGLC2', 'IGLC3', 'ST13', 'SNU13', 'ATRX', 'TCEAL8', 'TCEAL9', 'STAG2', 'MT.ATP8', 'MT.ND4L', 'MT.ND6', 'MT.TP']\n",
      "    finished (0:00:02)\n",
      "Saving preprocessed normalized counts matrix ..\n"
     ]
    }
   ],
   "source": [
    "#Normalize the data - for simple preprocessing\n",
    "genes = X.columns\n",
    "adata = AnnData(X[genes])\n",
    "X_norm = sc.pp.normalize_total(adata, target_sum=10000, exclude_highly_expressed=True, inplace=False)['X']\n",
    "X_norm_r = np.rint(X_norm)\n",
    "df = pd.DataFrame(data=X_norm_r,index=X.index,columns=X.columns)\n",
    "df = df.astype(int)\n",
    "print('Saving preprocessed normalized counts matrix ..')\n",
    "df.to_csv(path_save+'counts_matrix_pp_normr.tab',sep=\"\\t\")"
   ]
  },
  {
   "cell_type": "code",
   "execution_count": 38,
   "id": "876b20c4-8e70-4d4e-88d3-03265e6cb9b5",
   "metadata": {
    "tags": []
   },
   "outputs": [
    {
     "name": "stdout",
     "output_type": "stream",
     "text": [
      "Saving preprocessed log normalized counts matrix ..\n"
     ]
    }
   ],
   "source": [
    "\n",
    "#Log normalize the data - after 10000* based normaliation - for simple preprocessing\n",
    "X_norm_log = sc.pp.log1p(X_norm) #Logarithamize the data\n",
    "X_norm_log_r = np.rint(X_norm_log)\n",
    "df = pd.DataFrame(data=X_norm_log_r,index=X.index,columns=X.columns)\n",
    "df = df.astype(int)\n",
    "print('Saving preprocessed log normalized counts matrix ..')\n",
    "df.to_csv(path_save+'counts_matrix_pp_log1p_normr.tab',sep=\"\\t\")"
   ]
  },
  {
   "cell_type": "code",
   "execution_count": 14,
   "id": "7ea0608c-0bc7-43bf-995b-2e7202292a20",
   "metadata": {
    "tags": []
   },
   "outputs": [
    {
     "name": "stderr",
     "output_type": "stream",
     "text": [
      "/home/bsc/bsc083671/.local/lib/python3.9/site-packages/anndata/utils.py:292: UserWarning: X converted to numpy array with dtype float64\n",
      "  warnings.warn(f\"{name} converted to numpy array with dtype {arr.dtype}\")\n",
      "/home/bsc/bsc083671/.local/lib/python3.9/site-packages/anndata/_core/aligned_df.py:67: ImplicitModificationWarning: Transforming to str index.\n",
      "  warnings.warn(\"Transforming to str index.\", ImplicitModificationWarning)\n"
     ]
    },
    {
     "name": "stdout",
     "output_type": "stream",
     "text": [
      "normalizing counts per cell. The following highly-expressed genes are not considered during normalization factor computation:\n",
      "[]\n",
      "    finished (0:00:00)\n",
      "Saving normalized counts matrix before log1p...\n",
      "extracting highly variable genes\n",
      "    finished (0:00:02)\n"
     ]
    },
    {
     "data": {
      "image/png": "[encoded data removed]",
      "text/plain": [
       "<Figure size 1280x480 with 2 Axes>"
      ]
     },
     "metadata": {},
     "output_type": "display_data"
    },
    {
     "name": "stdout",
     "output_type": "stream",
     "text": [
      "Highly variable genes: 6250\n"
     ]
    }
   ],
   "source": [
    "\n",
    "#Preprocess the data to get only the set of highly variable genes\n",
    "X = orig_X\n",
    "#print(X)\n",
    "#X.drop(X.columns[0], axis = 1, inplace=True)\n",
    "X.drop(X.columns[-1], axis = 1, inplace=True) ###WE ONLY REMOVE THE LAST COLUMN, WHICH INDICATED THE CELLTYPE\n",
    "#X.drop(X.columns[-1], axis = 1, inplace=True)\n",
    "genes = X.columns\n",
    "#print(genes)\n",
    "adata_raw = AnnData(X[genes])\n",
    "adata = adata_raw.copy()\n",
    "#print(adata.X)\n",
    "sc.pp.normalize_total(adata, exclude_highly_expressed=True)\n",
    "\n",
    "# Save the normalized counts before applying log1p\n",
    "df_norm_counts = pd.DataFrame(adata.X, columns=genes)\n",
    "df_norm_counts = df_norm_counts.astype(float)\n",
    "print('Saving normalized counts matrix before log1p...')\n",
    "df_norm_counts.to_csv(path_save + 'counts_matrix_hvg_normr.tab', sep=\"\\t\")\n",
    "\n",
    "\n",
    "\n",
    "sc.pp.log1p(adata)\n",
    "sc.pp.highly_variable_genes(adata, min_mean=0.0125, max_mean=3, min_disp=0.5)\n",
    "sc.pl.highly_variable_genes(adata)\n",
    "print(\"Highly variable genes: %d\"%sum(adata.var.highly_variable))\n",
    "var_genes_all = adata.var.highly_variable"
   ]
  },
  {
   "cell_type": "code",
   "execution_count": 15,
   "id": "26f9d7c1-403b-4d6d-a19f-903991d6c605",
   "metadata": {
    "tags": []
   },
   "outputs": [
    {
     "name": "stdout",
     "output_type": "stream",
     "text": [
      "Mode - overall\n",
      "6250\n"
     ]
    }
   ],
   "source": [
    "#Using the overall set of highly variable genes\n",
    "var_select = adata.var.highly_variable\n",
    "var_genes = var_select.index[var_select]\n",
    "print('Mode - overall')\n",
    "print(len(var_genes))\n",
    "#print(var_genes)\n",
    "adata2 = adata_raw[:,var_genes]\n",
    "#print(adata2)\n",
    "\n",
    "genes2 = adata2.var.index\n",
    "df2 = pd.DataFrame(adata2.X, columns=genes2)"
   ]
  },
  {
   "cell_type": "code",
   "execution_count": 16,
   "id": "ec945e49-d8dc-4c0e-8aa2-0ffd902f4e25",
   "metadata": {
    "tags": []
   },
   "outputs": [
    {
     "name": "stdout",
     "output_type": "stream",
     "text": [
      "Saving counts matrix.. highly variable genes... \n",
      "Saving counts matrix.. highly variable genes log1p... \n"
     ]
    }
   ],
   "source": [
    "df2 = df2.astype(int)\n",
    "print('Saving counts matrix.. highly variable genes... ')\n",
    "df2.to_csv(path_save+'counts_matrix_hvg.tab',sep=\"\\t\") #Counts for variable genes\n",
    "\n",
    "\n",
    "adata3 = adata[:,var_genes]\n",
    "genes3 = adata3.var.index\n",
    "X_norm_r = np.rint(adata3.X)\n",
    "df3 = pd.DataFrame(X_norm_r, columns=genes3)\n",
    "df3 = df3.astype(int)\n",
    "print('Saving counts matrix.. highly variable genes log1p... ')\n",
    "df3.to_csv(path_save+'counts_matrix_hvg_log1p_normr.tab',sep=\"\\t\") #Normalized  for variable genes\n"
   ]
  }
 ],
 "metadata": {
  "kernelspec": {
   "display_name": "Python 3 (ipykernel)",
   "language": "python",
   "name": "python3"
  },
  "language_info": {
   "codemirror_mode": {
    "name": "ipython",
    "version": 3
   },
   "file_extension": ".py",
   "mimetype": "text/x-python",
   "name": "python",
   "nbconvert_exporter": "python",
   "pygments_lexer": "ipython3",
   "version": "3.11.5"
  }
 },
 "nbformat": 4,
 "nbformat_minor": 5
}
